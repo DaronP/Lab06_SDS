{
 "cells": [
  {
   "cell_type": "code",
   "execution_count": 1,
   "metadata": {},
   "outputs": [],
   "source": [
    "#Los respectivos imports\n",
    "import pandas as pd\n",
    "import numpy as np\n",
    "import json\n",
    "from flare.data_science.features import domain_tld_extract"
   ]
  },
  {
   "cell_type": "markdown",
   "metadata": {},
   "source": [
    "Leyendo JSON"
   ]
  },
  {
   "cell_type": "code",
   "execution_count": 2,
   "metadata": {},
   "outputs": [
    {
     "name": "stdout",
     "output_type": "stream",
     "text": [
      "746909\n"
     ]
    }
   ],
   "source": [
    "file_path = './large_eve.json'\n",
    "\n",
    "data = []\n",
    "for line in open(file_path, 'r'):\n",
    "    data.append(json.loads(line))\n",
    "\n",
    "print(len(data))"
   ]
  },
  {
   "cell_type": "markdown",
   "metadata": {},
   "source": [
    "Extrayendo datos con llave 'DNS'"
   ]
  },
  {
   "cell_type": "code",
   "execution_count": 3,
   "metadata": {},
   "outputs": [
    {
     "name": "stdout",
     "output_type": "stream",
     "text": [
      "{'timestamp': '2017-07-22T17:33:16.661646-0500', 'flow_id': 1327836194150542, 'pcap_cnt': 22269, 'event_type': 'dns', 'vlan': 110, 'src_ip': '2001:0dbb:0c18:0011:0260:6eff:fe30:0863', 'src_port': 59680, 'dest_ip': '2001:0500:0001:0000:0000:0000:803f:0235', 'dest_port': 53, 'proto': 'UDP', 'dns': {'type': 'query', 'id': 15529, 'rrname': 'api.wunderground.com', 'rrtype': 'A', 'tx_id': 0}} \n",
      " {'timestamp': '2017-07-22T17:33:24.990320-0500', 'flow_id': 2022925111925872, 'pcap_cnt': 54352, 'event_type': 'dns', 'vlan': 110, 'src_ip': '2001:0dbb:0c18:0011:0260:6eff:fe30:0863', 'src_port': 38051, 'dest_ip': '2001:0500:0003:0000:0000:0000:0000:0042', 'dest_port': 53, 'proto': 'UDP', 'dns': {'type': 'query', 'id': 58278, 'rrname': 'stork79.dropbox.com', 'rrtype': 'A', 'tx_id': 0}}\n"
     ]
    }
   ],
   "source": [
    "data_dns = []\n",
    "\n",
    "for j in data:\n",
    "    for i in j:\n",
    "        try: \n",
    "            if 'DNS' in i or 'dns' in i:\n",
    "                data_dns.append(j)\n",
    "        except:\n",
    "            pass\n",
    "\n",
    "print(data_dns[0], '\\n', data_dns[1])"
   ]
  },
  {
   "cell_type": "markdown",
   "metadata": {},
   "source": [
    "Normalizando JSON a pandas dataframe"
   ]
  },
  {
   "cell_type": "code",
   "execution_count": 4,
   "metadata": {},
   "outputs": [],
   "source": [
    "df = pd.json_normalize(data_dns)\n",
    "\n",
    "#Renombrando columnas nuevas\n",
    "df = df.rename(columns= {'dns.type': 'dns_type', 'dns.id': 'dns_id', 'dns.rrname': 'dns_rrname', 'dns.rrtype': 'dns_rrtype', 'dns.tx_id': 'dns_tx_id', 'dns.rcode': 'dns_rcode', 'dns.ttl': 'dns_ttl', 'dns.rdata': 'dns_rdata'})"
   ]
  },
  {
   "cell_type": "markdown",
   "metadata": {},
   "source": [
    "Filtrando registros con DNS tipo A"
   ]
  },
  {
   "cell_type": "code",
   "execution_count": 5,
   "metadata": {},
   "outputs": [
    {
     "name": "stdout",
     "output_type": "stream",
     "text": [
      "                         timestamp           flow_id  pcap_cnt event_type  \\\n",
      "0  2017-07-22T17:33:16.661646-0500  1327836194150542     22269        dns   \n",
      "1  2017-07-22T17:33:24.990320-0500  2022925111925872     54352        dns   \n",
      "2  2017-07-22T17:33:27.379891-0500   578544790391795     54519        dns   \n",
      "5  2017-07-22T17:33:36.672785-0500   237919524635665     55496        dns   \n",
      "6  2017-07-22T17:33:38.537426-0500  2167545251640146     55687        dns   \n",
      "\n",
      "   vlan                                   src_ip  src_port  \\\n",
      "0   110  2001:0dbb:0c18:0011:0260:6eff:fe30:0863     59680   \n",
      "1   110  2001:0dbb:0c18:0011:0260:6eff:fe30:0863     38051   \n",
      "2   150                          192.168.205.170     31393   \n",
      "5   110  2001:0dbb:0c18:0011:0260:6eff:fe30:0863     41663   \n",
      "6   180                           192.168.198.62     35092   \n",
      "\n",
      "                                   dest_ip  dest_port proto dns_type  dns_id  \\\n",
      "0  2001:0500:0001:0000:0000:0000:803f:0235         53   UDP    query   15529   \n",
      "1  2001:0500:0003:0000:0000:0000:0000:0042         53   UDP    query   58278   \n",
      "2                            192.168.207.4         53   UDP    query   54724   \n",
      "5  2001:07fd:0000:0000:0000:0000:0000:0001         53   UDP    query   45082   \n",
      "6                            192.168.207.4         53   UDP    query    7425   \n",
      "\n",
      "                                   dns_rrname dns_rrtype  dns_tx_id dns_rcode  \\\n",
      "0                        api.wunderground.com          A        0.0       NaN   \n",
      "1                         stork79.dropbox.com          A        0.0       NaN   \n",
      "2  hpca-tier2.office.aol.com.ad.aol.aoltw.net          A        0.0       NaN   \n",
      "5                        api.wunderground.com          A        0.0       NaN   \n",
      "6        safebrowsing.clients.google.com.home          A        0.0       NaN   \n",
      "\n",
      "   dns_ttl dns_rdata  \n",
      "0      NaN       NaN  \n",
      "1      NaN       NaN  \n",
      "2      NaN       NaN  \n",
      "5      NaN       NaN  \n",
      "6      NaN       NaN  \n",
      "2849\n"
     ]
    }
   ],
   "source": [
    "df_dns_A = df.query(\"dns_rrtype == 'A'\")\n",
    "\n",
    "print(df_dns_A.head())\n",
    "print(len(df_dns_A))"
   ]
  },
  {
   "cell_type": "markdown",
   "metadata": {},
   "source": [
    "Filtrando dominios unicos"
   ]
  },
  {
   "cell_type": "code",
   "execution_count": 6,
   "metadata": {},
   "outputs": [
    {
     "name": "stdout",
     "output_type": "stream",
     "text": [
      "portswigger.net                                 1\n",
      "www.phpmyadmin.net                              1\n",
      "aosnotify.me.com                                1\n",
      "kodapp.com                                      1\n",
      "ul.backblaze.com                                1\n",
      "www.social-engineer.org                         1\n",
      "activex.microsoft.com                           1\n",
      "www.mac.com                                     1\n",
      "gfe.nvidia.com                                  1\n",
      "idisk.mac.com                                   1\n",
      "www.nagios.org                                  1\n",
      "vtlfccmfxlkgifuf.com                            1\n",
      "linkhelp.clients.google.com.ad.aol.aoltw.net    1\n",
      "update.macromates.com                           1\n",
      "1922.168.22.254                                 1\n",
      "linkhelp.clients.google.com                     1\n",
      "1922.168.22.254.home                            1\n",
      "192.168.21-28.0                                 1\n",
      "ejfodfmfxlkgifuf.xyz                            1\n",
      "192.168.21-28.0.home                            1\n",
      "192.168.22.201:                                 1\n",
      "aoldtcmds01.office.aol.com                      1\n",
      "aoldtcmds01.office.aol.com.ad.aol.aoltw.net     1\n",
      "ntp.ubuntu.com.localdomain                      1\n",
      "redir.metaservices.microsoft.com                1\n",
      "ocsp.verisign.com                               1\n",
      "192.168.22.201:.stayonline.net                  1\n",
      "gdata.youtube.com                               1\n",
      "images.apple.com                                1\n",
      "r1s6i7.connectivity.me.com                      1\n",
      "www.cakephp.org                                 1\n",
      "www.postgresql.org                              1\n",
      "sourceforge.net                                 1\n",
      "www.freepbx.org                                 1\n",
      "www.bigflickrfeed.com                           1\n",
      "www.gnu.org                                     1\n",
      "phppgadmin.sourceforge.net                      1\n",
      "freepbx.org                                     1\n",
      "api.flickr.com                                  1\n",
      "api.facebook.com                                1\n",
      "www.securityfocus.com                           1\n",
      "sync.xmarks.com                                 1\n",
      "google.com                                      1\n",
      "configuration.apple.com                         1\n",
      "clients5.google.com                             1\n",
      "FL                                              1\n",
      "internalcheck.apple.com                         1\n",
      "cloud.xmarks.com                                1\n",
      "www.metasploit.com.office.aol.com               1\n",
      "clients2.google.com                             1\n",
      "192.168.21.1201.stayonline.net                  1\n",
      "clients2.google.com.ad.aol.aoltw.net            1\n",
      "192.168.21.1201                                 1\n",
      "                                                1\n",
      "fileservices.me.com                             1\n",
      "client-software.real.com                        1\n",
      "Name: dns_rrname, dtype: int64\n",
      "56\n"
     ]
    }
   ],
   "source": [
    "df2 = df_dns_A.drop_duplicates(subset='dns_rrname', keep=False, ignore_index=True)\n",
    "\n",
    "print(df2['dns_rrname'].value_counts())\n",
    "print(len(df2))"
   ]
  },
  {
   "cell_type": "markdown",
   "metadata": {},
   "source": [
    "Extrayendo Top Level Domain"
   ]
  },
  {
   "cell_type": "code",
   "execution_count": 7,
   "metadata": {},
   "outputs": [
    {
     "name": "stdout",
     "output_type": "stream",
     "text": [
      "                         timestamp           flow_id  pcap_cnt event_type  \\\n",
      "0  2017-07-22T17:40:48.114275-0500  1014350855847523     96677        dns   \n",
      "1  2017-07-22T17:46:04.610289-0500   429530932048697    151992        dns   \n",
      "2  2017-07-22T17:48:23.254250-0500  1671304788304170    203830        dns   \n",
      "3  2017-07-22T17:48:23.255644-0500  1964865802987164    203832        dns   \n",
      "4  2017-07-22T17:53:44.404584-0500   959585778674792    234695        dns   \n",
      "\n",
      "   vlan           src_ip  src_port        dest_ip  dest_port proto dns_type  \\\n",
      "0   140   192.168.204.63     52070  192.168.207.4         53   UDP    query   \n",
      "1   110   192.168.201.65      1034  192.168.207.4         53   UDP    query   \n",
      "2   120  192.168.202.172     55069  192.168.207.4         53   UDP    query   \n",
      "3   120  192.168.202.172     54399  192.168.207.4         53   UDP    query   \n",
      "4   120  192.168.202.172     49372  192.168.207.4         53   UDP    query   \n",
      "\n",
      "   dns_id          dns_rrname dns_rrtype  dns_tx_id dns_rcode  dns_ttl  \\\n",
      "0    2998     portswigger.net          A        0.0       NaN      NaN   \n",
      "1   10341  www.phpmyadmin.net          A        1.0       NaN      NaN   \n",
      "2   56106  www.postgresql.org          A        0.0       NaN      NaN   \n",
      "3   59952     sourceforge.net          A        0.0       NaN      NaN   \n",
      "4    3191     www.freepbx.org          A        0.0       NaN      NaN   \n",
      "\n",
      "  dns_rdata  \n",
      "0       NaN  \n",
      "1       NaN  \n",
      "2       NaN  \n",
      "3       NaN  \n",
      "4       NaN  \n",
      "                         timestamp           flow_id  pcap_cnt event_type  \\\n",
      "0  2017-07-22T17:40:48.114275-0500  1014350855847523     96677        dns   \n",
      "1  2017-07-22T17:46:04.610289-0500   429530932048697    151992        dns   \n",
      "2  2017-07-22T17:48:23.254250-0500  1671304788304170    203830        dns   \n",
      "3  2017-07-22T17:48:23.255644-0500  1964865802987164    203832        dns   \n",
      "4  2017-07-22T17:53:44.404584-0500   959585778674792    234695        dns   \n",
      "\n",
      "   vlan           src_ip  src_port        dest_ip  dest_port proto dns_type  \\\n",
      "0   140   192.168.204.63     52070  192.168.207.4         53   UDP    query   \n",
      "1   110   192.168.201.65      1034  192.168.207.4         53   UDP    query   \n",
      "2   120  192.168.202.172     55069  192.168.207.4         53   UDP    query   \n",
      "3   120  192.168.202.172     54399  192.168.207.4         53   UDP    query   \n",
      "4   120  192.168.202.172     49372  192.168.207.4         53   UDP    query   \n",
      "\n",
      "   dns_id          dns_rrname dns_rrtype  dns_tx_id dns_rcode  dns_ttl  \\\n",
      "0    2998     portswigger.net          A        0.0       NaN      NaN   \n",
      "1   10341  www.phpmyadmin.net          A        1.0       NaN      NaN   \n",
      "2   56106  www.postgresql.org          A        0.0       NaN      NaN   \n",
      "3   59952     sourceforge.net          A        0.0       NaN      NaN   \n",
      "4    3191     www.freepbx.org          A        0.0       NaN      NaN   \n",
      "\n",
      "  dns_rdata              tld  \n",
      "0       NaN  portswigger.net  \n",
      "1       NaN   phpmyadmin.net  \n",
      "2       NaN   postgresql.org  \n",
      "3       NaN  sourceforge.net  \n",
      "4       NaN      freepbx.org  \n"
     ]
    },
    {
     "name": "stderr",
     "output_type": "stream",
     "text": [
      "C:\\Users\\jandr\\AppData\\Local\\Temp\\ipykernel_30568\\1648211025.py:8: SettingWithCopyWarning: \n",
      "A value is trying to be set on a copy of a slice from a DataFrame.\n",
      "Try using .loc[row_indexer,col_indexer] = value instead\n",
      "\n",
      "See the caveats in the documentation: https://pandas.pydata.org/pandas-docs/stable/user_guide/indexing.html#returning-a-view-versus-a-copy\n",
      "  df2['tld'] = tld_list\n"
     ]
    }
   ],
   "source": [
    "tld_list = []\n",
    "\n",
    "print(df2.head())\n",
    "\n",
    "for i in range(len(df2)):\n",
    "    tld_list.append(domain_tld_extract(df2['dns_rrname'][i]))\n",
    "\n",
    "df2['tld'] = tld_list\n",
    "\n",
    "\n",
    "\n",
    "print(df2.head())"
   ]
  }
 ],
 "metadata": {
  "interpreter": {
   "hash": "932a07b3a36724f0aad8ae0673ab0ff3eb997f9603e7d0ac9c3c7b8dd6cf5afb"
  },
  "kernelspec": {
   "display_name": "Python 3.8.10 64-bit",
   "language": "python",
   "name": "python3"
  },
  "language_info": {
   "codemirror_mode": {
    "name": "ipython",
    "version": 3
   },
   "file_extension": ".py",
   "mimetype": "text/x-python",
   "name": "python",
   "nbconvert_exporter": "python",
   "pygments_lexer": "ipython3",
   "version": "3.8.10"
  },
  "orig_nbformat": 4
 },
 "nbformat": 4,
 "nbformat_minor": 2
}
