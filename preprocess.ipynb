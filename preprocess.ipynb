{
 "cells": [
  {
   "cell_type": "code",
   "execution_count": 1,
   "metadata": {},
   "outputs": [],
   "source": [
    "#Los respectivos imports\n",
    "import pandas as pd\n",
    "import numpy as np\n",
    "import json\n",
    "from flare.data_science.features import domain_tld_extract\n",
    "import caracteristicasDerivadas\n",
    "from caracteristicasDerivadas import H_entropy, proporcionVocalesConsonantes, posicionPrimerDigito\n",
    "import sklearn\n",
    "from sklearn import metrics, model_selection, tree"
   ]
  },
  {
   "cell_type": "markdown",
   "metadata": {},
   "source": [
    "Leyendo JSON"
   ]
  },
  {
   "cell_type": "code",
   "execution_count": 2,
   "metadata": {},
   "outputs": [
    {
     "name": "stdout",
     "output_type": "stream",
     "text": [
      "746909\n"
     ]
    }
   ],
   "source": [
    "file_path = './large_eve.json'\n",
    "\n",
    "data = []\n",
    "for line in open(file_path, 'r'):\n",
    "    data.append(json.loads(line))\n",
    "\n",
    "print(len(data))"
   ]
  },
  {
   "cell_type": "markdown",
   "metadata": {},
   "source": [
    "Extrayendo datos con llave 'DNS'"
   ]
  },
  {
   "cell_type": "code",
   "execution_count": 3,
   "metadata": {},
   "outputs": [
    {
     "name": "stdout",
     "output_type": "stream",
     "text": [
      "{'timestamp': '2017-07-22T17:33:16.661646-0500', 'flow_id': 1327836194150542, 'pcap_cnt': 22269, 'event_type': 'dns', 'vlan': 110, 'src_ip': '2001:0dbb:0c18:0011:0260:6eff:fe30:0863', 'src_port': 59680, 'dest_ip': '2001:0500:0001:0000:0000:0000:803f:0235', 'dest_port': 53, 'proto': 'UDP', 'dns': {'type': 'query', 'id': 15529, 'rrname': 'api.wunderground.com', 'rrtype': 'A', 'tx_id': 0}} \n",
      " {'timestamp': '2017-07-22T17:33:24.990320-0500', 'flow_id': 2022925111925872, 'pcap_cnt': 54352, 'event_type': 'dns', 'vlan': 110, 'src_ip': '2001:0dbb:0c18:0011:0260:6eff:fe30:0863', 'src_port': 38051, 'dest_ip': '2001:0500:0003:0000:0000:0000:0000:0042', 'dest_port': 53, 'proto': 'UDP', 'dns': {'type': 'query', 'id': 58278, 'rrname': 'stork79.dropbox.com', 'rrtype': 'A', 'tx_id': 0}}\n"
     ]
    }
   ],
   "source": [
    "data_dns = []\n",
    "\n",
    "for j in data:\n",
    "    for i in j:\n",
    "        try: \n",
    "            if 'DNS' in i or 'dns' in i:\n",
    "                data_dns.append(j)\n",
    "        except:\n",
    "            pass\n",
    "\n",
    "print(data_dns[0], '\\n', data_dns[1])"
   ]
  },
  {
   "cell_type": "markdown",
   "metadata": {},
   "source": [
    "Normalizando JSON a pandas dataframe"
   ]
  },
  {
   "cell_type": "code",
   "execution_count": 4,
   "metadata": {},
   "outputs": [],
   "source": [
    "df = pd.json_normalize(data_dns)\n",
    "\n",
    "#Renombrando columnas nuevas\n",
    "df = df.rename(columns= {'dns.type': 'dns_type', 'dns.id': 'dns_id', 'dns.rrname': 'dns_rrname', 'dns.rrtype': 'dns_rrtype', 'dns.tx_id': 'dns_tx_id', 'dns.rcode': 'dns_rcode', 'dns.ttl': 'dns_ttl', 'dns.rdata': 'dns_rdata'})"
   ]
  },
  {
   "cell_type": "markdown",
   "metadata": {},
   "source": [
    "Filtrando registros con DNS tipo A"
   ]
  },
  {
   "cell_type": "code",
   "execution_count": 5,
   "metadata": {},
   "outputs": [
    {
     "name": "stdout",
     "output_type": "stream",
     "text": [
      "                         timestamp           flow_id  pcap_cnt event_type  \\\n",
      "0  2017-07-22T17:33:16.661646-0500  1327836194150542     22269        dns   \n",
      "1  2017-07-22T17:33:24.990320-0500  2022925111925872     54352        dns   \n",
      "2  2017-07-22T17:33:27.379891-0500   578544790391795     54519        dns   \n",
      "5  2017-07-22T17:33:36.672785-0500   237919524635665     55496        dns   \n",
      "6  2017-07-22T17:33:38.537426-0500  2167545251640146     55687        dns   \n",
      "\n",
      "   vlan                                   src_ip  src_port  \\\n",
      "0   110  2001:0dbb:0c18:0011:0260:6eff:fe30:0863     59680   \n",
      "1   110  2001:0dbb:0c18:0011:0260:6eff:fe30:0863     38051   \n",
      "2   150                          192.168.205.170     31393   \n",
      "5   110  2001:0dbb:0c18:0011:0260:6eff:fe30:0863     41663   \n",
      "6   180                           192.168.198.62     35092   \n",
      "\n",
      "                                   dest_ip  dest_port proto dns_type  dns_id  \\\n",
      "0  2001:0500:0001:0000:0000:0000:803f:0235         53   UDP    query   15529   \n",
      "1  2001:0500:0003:0000:0000:0000:0000:0042         53   UDP    query   58278   \n",
      "2                            192.168.207.4         53   UDP    query   54724   \n",
      "5  2001:07fd:0000:0000:0000:0000:0000:0001         53   UDP    query   45082   \n",
      "6                            192.168.207.4         53   UDP    query    7425   \n",
      "\n",
      "                                   dns_rrname dns_rrtype  dns_tx_id dns_rcode  \\\n",
      "0                        api.wunderground.com          A        0.0       NaN   \n",
      "1                         stork79.dropbox.com          A        0.0       NaN   \n",
      "2  hpca-tier2.office.aol.com.ad.aol.aoltw.net          A        0.0       NaN   \n",
      "5                        api.wunderground.com          A        0.0       NaN   \n",
      "6        safebrowsing.clients.google.com.home          A        0.0       NaN   \n",
      "\n",
      "   dns_ttl dns_rdata  \n",
      "0      NaN       NaN  \n",
      "1      NaN       NaN  \n",
      "2      NaN       NaN  \n",
      "5      NaN       NaN  \n",
      "6      NaN       NaN  \n",
      "2849\n"
     ]
    }
   ],
   "source": [
    "df_dns_A = df.query(\"dns_rrtype == 'A'\")\n",
    "\n",
    "print(df_dns_A.head())\n",
    "print(len(df_dns_A))"
   ]
  },
  {
   "cell_type": "markdown",
   "metadata": {},
   "source": [
    "Filtrando dominios unicos"
   ]
  },
  {
   "cell_type": "code",
   "execution_count": 6,
   "metadata": {},
   "outputs": [
    {
     "name": "stdout",
     "output_type": "stream",
     "text": [
      "portswigger.net                                 1\n",
      "www.phpmyadmin.net                              1\n",
      "aosnotify.me.com                                1\n",
      "kodapp.com                                      1\n",
      "ul.backblaze.com                                1\n",
      "www.social-engineer.org                         1\n",
      "activex.microsoft.com                           1\n",
      "www.mac.com                                     1\n",
      "gfe.nvidia.com                                  1\n",
      "idisk.mac.com                                   1\n",
      "www.nagios.org                                  1\n",
      "vtlfccmfxlkgifuf.com                            1\n",
      "linkhelp.clients.google.com.ad.aol.aoltw.net    1\n",
      "update.macromates.com                           1\n",
      "1922.168.22.254                                 1\n",
      "linkhelp.clients.google.com                     1\n",
      "1922.168.22.254.home                            1\n",
      "192.168.21-28.0                                 1\n",
      "ejfodfmfxlkgifuf.xyz                            1\n",
      "192.168.21-28.0.home                            1\n",
      "192.168.22.201:                                 1\n",
      "aoldtcmds01.office.aol.com                      1\n",
      "aoldtcmds01.office.aol.com.ad.aol.aoltw.net     1\n",
      "ntp.ubuntu.com.localdomain                      1\n",
      "redir.metaservices.microsoft.com                1\n",
      "ocsp.verisign.com                               1\n",
      "192.168.22.201:.stayonline.net                  1\n",
      "gdata.youtube.com                               1\n",
      "images.apple.com                                1\n",
      "r1s6i7.connectivity.me.com                      1\n",
      "www.cakephp.org                                 1\n",
      "www.postgresql.org                              1\n",
      "sourceforge.net                                 1\n",
      "www.freepbx.org                                 1\n",
      "www.bigflickrfeed.com                           1\n",
      "www.gnu.org                                     1\n",
      "phppgadmin.sourceforge.net                      1\n",
      "freepbx.org                                     1\n",
      "api.flickr.com                                  1\n",
      "api.facebook.com                                1\n",
      "www.securityfocus.com                           1\n",
      "sync.xmarks.com                                 1\n",
      "google.com                                      1\n",
      "configuration.apple.com                         1\n",
      "clients5.google.com                             1\n",
      "FL                                              1\n",
      "internalcheck.apple.com                         1\n",
      "cloud.xmarks.com                                1\n",
      "www.metasploit.com.office.aol.com               1\n",
      "clients2.google.com                             1\n",
      "192.168.21.1201.stayonline.net                  1\n",
      "clients2.google.com.ad.aol.aoltw.net            1\n",
      "192.168.21.1201                                 1\n",
      "                                                1\n",
      "fileservices.me.com                             1\n",
      "client-software.real.com                        1\n",
      "Name: dns_rrname, dtype: int64\n",
      "56\n"
     ]
    }
   ],
   "source": [
    "df2 = df_dns_A.drop_duplicates(subset='dns_rrname', keep=False, ignore_index=True)\n",
    "\n",
    "print(df2['dns_rrname'].value_counts())\n",
    "print(len(df2))"
   ]
  },
  {
   "cell_type": "markdown",
   "metadata": {},
   "source": [
    "Extrayendo Top Level Domain"
   ]
  },
  {
   "cell_type": "code",
   "execution_count": 7,
   "metadata": {},
   "outputs": [
    {
     "name": "stdout",
     "output_type": "stream",
     "text": [
      "                         timestamp           flow_id  pcap_cnt event_type  \\\n",
      "0  2017-07-22T17:40:48.114275-0500  1014350855847523     96677        dns   \n",
      "1  2017-07-22T17:46:04.610289-0500   429530932048697    151992        dns   \n",
      "2  2017-07-22T17:48:23.254250-0500  1671304788304170    203830        dns   \n",
      "3  2017-07-22T17:48:23.255644-0500  1964865802987164    203832        dns   \n",
      "4  2017-07-22T17:53:44.404584-0500   959585778674792    234695        dns   \n",
      "\n",
      "   vlan           src_ip  src_port        dest_ip  dest_port proto dns_type  \\\n",
      "0   140   192.168.204.63     52070  192.168.207.4         53   UDP    query   \n",
      "1   110   192.168.201.65      1034  192.168.207.4         53   UDP    query   \n",
      "2   120  192.168.202.172     55069  192.168.207.4         53   UDP    query   \n",
      "3   120  192.168.202.172     54399  192.168.207.4         53   UDP    query   \n",
      "4   120  192.168.202.172     49372  192.168.207.4         53   UDP    query   \n",
      "\n",
      "   dns_id          dns_rrname dns_rrtype  dns_tx_id dns_rcode  dns_ttl  \\\n",
      "0    2998     portswigger.net          A        0.0       NaN      NaN   \n",
      "1   10341  www.phpmyadmin.net          A        1.0       NaN      NaN   \n",
      "2   56106  www.postgresql.org          A        0.0       NaN      NaN   \n",
      "3   59952     sourceforge.net          A        0.0       NaN      NaN   \n",
      "4    3191     www.freepbx.org          A        0.0       NaN      NaN   \n",
      "\n",
      "  dns_rdata  \n",
      "0       NaN  \n",
      "1       NaN  \n",
      "2       NaN  \n",
      "3       NaN  \n",
      "4       NaN  \n",
      "                         timestamp           flow_id  pcap_cnt event_type  \\\n",
      "0  2017-07-22T17:40:48.114275-0500  1014350855847523     96677        dns   \n",
      "1  2017-07-22T17:46:04.610289-0500   429530932048697    151992        dns   \n",
      "2  2017-07-22T17:48:23.254250-0500  1671304788304170    203830        dns   \n",
      "3  2017-07-22T17:48:23.255644-0500  1964865802987164    203832        dns   \n",
      "4  2017-07-22T17:53:44.404584-0500   959585778674792    234695        dns   \n",
      "\n",
      "   vlan           src_ip  src_port        dest_ip  dest_port proto dns_type  \\\n",
      "0   140   192.168.204.63     52070  192.168.207.4         53   UDP    query   \n",
      "1   110   192.168.201.65      1034  192.168.207.4         53   UDP    query   \n",
      "2   120  192.168.202.172     55069  192.168.207.4         53   UDP    query   \n",
      "3   120  192.168.202.172     54399  192.168.207.4         53   UDP    query   \n",
      "4   120  192.168.202.172     49372  192.168.207.4         53   UDP    query   \n",
      "\n",
      "   dns_id          dns_rrname dns_rrtype  dns_tx_id dns_rcode  dns_ttl  \\\n",
      "0    2998     portswigger.net          A        0.0       NaN      NaN   \n",
      "1   10341  www.phpmyadmin.net          A        1.0       NaN      NaN   \n",
      "2   56106  www.postgresql.org          A        0.0       NaN      NaN   \n",
      "3   59952     sourceforge.net          A        0.0       NaN      NaN   \n",
      "4    3191     www.freepbx.org          A        0.0       NaN      NaN   \n",
      "\n",
      "  dns_rdata              tld  \n",
      "0       NaN  portswigger.net  \n",
      "1       NaN   phpmyadmin.net  \n",
      "2       NaN   postgresql.org  \n",
      "3       NaN  sourceforge.net  \n",
      "4       NaN      freepbx.org  \n"
     ]
    },
    {
     "name": "stderr",
     "output_type": "stream",
     "text": [
      "/tmp/ipykernel_10621/1648211025.py:8: SettingWithCopyWarning: \n",
      "A value is trying to be set on a copy of a slice from a DataFrame.\n",
      "Try using .loc[row_indexer,col_indexer] = value instead\n",
      "\n",
      "See the caveats in the documentation: https://pandas.pydata.org/pandas-docs/stable/user_guide/indexing.html#returning-a-view-versus-a-copy\n",
      "  df2['tld'] = tld_list\n"
     ]
    }
   ],
   "source": [
    "tld_list = []\n",
    "\n",
    "print(df2.head())\n",
    "\n",
    "for i in range(len(df2)):\n",
    "    tld_list.append(domain_tld_extract(df2['dns_rrname'][i]))\n",
    "\n",
    "df2['tld'] = tld_list\n",
    "\n",
    "\n",
    "\n",
    "print(df2.head())"
   ]
  },
  {
   "cell_type": "markdown",
   "metadata": {},
   "source": [
    "Entrenar Modelo"
   ]
  },
  {
   "cell_type": "code",
   "execution_count": 27,
   "metadata": {},
   "outputs": [
    {
     "name": "stdout",
     "output_type": "stream",
     "text": [
      "Final features: Index(['isDGA', 'longitud', 'digitos', 'entropia',\n",
      "       'proporcionVocalesConsonantes', 'posicionPrimerDigito'],\n",
      "      dtype='object')\n",
      "   isDGA  longitud  digitos  entropia  proporcionVocalesConsonantes  \\\n",
      "0      1        13        0  3.546594                      0.083333   \n",
      "1      1        26       10  4.132944                      0.333333   \n",
      "2      1         8        0  2.500000                      0.333333   \n",
      "3      1        26        7  4.180833                      0.357143   \n",
      "4      1        24        9  3.834963                      0.666667   \n",
      "\n",
      "   posicionPrimerDigito  \n",
      "0                     0  \n",
      "1                     1  \n",
      "2                     0  \n",
      "3                     1  \n",
      "4                     2  \n"
     ]
    }
   ],
   "source": [
    "#Carga de datos\n",
    "df_m = pd.read_csv('./dga_data_small.csv')\n",
    "\n",
    "#Preprocesamiento\n",
    "\n",
    "#Eliminacion de caracteristicas irrelevante o repetidas\n",
    "df_m.drop(['host','subclass'], axis=1, inplace=True)\n",
    "\n",
    "#Codificacion de variable objetivo\n",
    "df_m['isDGA'] = df_m['isDGA'].replace(to_replace='dga', value=1)\n",
    "df_m['isDGA'] = df_m['isDGA'].replace(to_replace='legit', value=0)\n",
    "\n",
    "\n",
    "#Derivar caracteristicas\n",
    "# 1. Longitud\n",
    "# 2. Cantidad de digitos\n",
    "# 3. Calculo de entropia (Shannon), es decir la cantidad de \"informacion\" que se puede obtener de una variable\n",
    "# 4. Posicion del primer digito en la cadena\n",
    "# 5. Proporcion de vocales - consonantes\n",
    "\n",
    "df_m['longitud'] = df_m['domain'].str.len()\n",
    "df_m['digitos'] = df_m['domain'].str.count('[0-9]')\n",
    "df_m['entropia'] = df_m['domain'].apply(H_entropy)\n",
    "df_m['proporcionVocalesConsonantes'] = df_m['domain'].apply(proporcionVocalesConsonantes)\n",
    "df_m['posicionPrimerDigito'] = df_m['domain'].apply(posicionPrimerDigito)\n",
    "\n",
    "df_m.drop(['domain'], axis=1, inplace=True)\n",
    "\n",
    "\n",
    "\n",
    "print('Final features:', df_m.columns)\n",
    "print(df_m.head())\n",
    "\n",
    "df_m_final = df_m"
   ]
  },
  {
   "cell_type": "code",
   "execution_count": 28,
   "metadata": {},
   "outputs": [
    {
     "name": "stdout",
     "output_type": "stream",
     "text": [
      "Final features: Index(['longitud', 'digitos', 'entropia', 'proporcionVocalesConsonantes',\n",
      "       'posicionPrimerDigito'],\n",
      "      dtype='object')\n"
     ]
    }
   ],
   "source": [
    "target = df_m_final['isDGA']\n",
    "feature_matrix = df_m_final.drop(['isDGA'], axis=1)\n",
    "\n",
    "print('Final features:', feature_matrix.columns)\n",
    "feature_matrix.head()\n",
    "\n",
    "feature_matrix_train, feature_matrix_test, target_train, target_test = model_selection.train_test_split(feature_matrix, target, test_size=0.5, random_state=31)\n",
    "\n",
    "clf = tree.DecisionTreeClassifier()\n",
    "clf = clf.fit(feature_matrix_train, target_train)"
   ]
  },
  {
   "cell_type": "markdown",
   "metadata": {},
   "source": [
    "Obtener data"
   ]
  },
  {
   "cell_type": "code",
   "execution_count": 29,
   "metadata": {},
   "outputs": [
    {
     "name": "stdout",
     "output_type": "stream",
     "text": [
      "   longitud  digitos  entropia  proporcionVocalesConsonantes  \\\n",
      "0        15        0  3.373557                      0.400000   \n",
      "1        14        0  3.378783                      0.300000   \n",
      "2        14        0  3.235926                      0.300000   \n",
      "3        15        0  3.323231                      0.750000   \n",
      "4        11        0  3.095795                      0.428571   \n",
      "\n",
      "   posicionPrimerDigito  \n",
      "0                     0  \n",
      "1                     0  \n",
      "2                     0  \n",
      "3                     0  \n",
      "4                     0  \n"
     ]
    }
   ],
   "source": [
    "d = {'longitud': [], 'digitos': [], 'entropia': [], 'proporcionVocalesConsonantes': [], 'posicionPrimerDigito': []}\n",
    "df_t = pd.DataFrame(data=d)\n",
    "df_t['longitud'] = df2['tld'].str.len()\n",
    "df_t['digitos'] = df2['tld'].str.count('[0-9]')\n",
    "df_t['entropia'] = df2['tld'].apply(H_entropy)\n",
    "df_t['proporcionVocalesConsonantes'] = df2['tld'].apply(proporcionVocalesConsonantes)\n",
    "df_t['posicionPrimerDigito'] = df2['tld'].apply(posicionPrimerDigito)\n",
    "\n",
    "df_t_final = df_t\n",
    "print(df_t_final.head())"
   ]
  },
  {
   "cell_type": "markdown",
   "metadata": {},
   "source": [
    "Realizar Prediccion"
   ]
  },
  {
   "cell_type": "code",
   "execution_count": 36,
   "metadata": {},
   "outputs": [
    {
     "name": "stdout",
     "output_type": "stream",
     "text": [
      "[1 1 1 1 0 0 0 1 0 0 0 0 0 0 0 0 0 0 0 0 0 0 0 1 0 0 0 0 0 0 0 0 1 0 0 0 0\n",
      " 0 0 1 0 0 1 0 1 1 1 1 1 0 0 0 0 0 1 0]\n"
     ]
    }
   ],
   "source": [
    "target_pred = clf.predict(df_t_final)\n",
    "print(target_pred)"
   ]
  },
  {
   "cell_type": "code",
   "execution_count": 37,
   "metadata": {},
   "outputs": [
    {
     "name": "stdout",
     "output_type": "stream",
     "text": [
      "                         timestamp           flow_id  pcap_cnt event_type  \\\n",
      "0  2017-07-22T17:40:48.114275-0500  1014350855847523     96677        dns   \n",
      "1  2017-07-22T17:46:04.610289-0500   429530932048697    151992        dns   \n",
      "2  2017-07-22T17:48:23.254250-0500  1671304788304170    203830        dns   \n",
      "3  2017-07-22T17:48:23.255644-0500  1964865802987164    203832        dns   \n",
      "4  2017-07-22T17:53:44.404584-0500   959585778674792    234695        dns   \n",
      "\n",
      "   vlan           src_ip  src_port        dest_ip  dest_port proto dns_type  \\\n",
      "0   140   192.168.204.63     52070  192.168.207.4         53   UDP    query   \n",
      "1   110   192.168.201.65      1034  192.168.207.4         53   UDP    query   \n",
      "2   120  192.168.202.172     55069  192.168.207.4         53   UDP    query   \n",
      "3   120  192.168.202.172     54399  192.168.207.4         53   UDP    query   \n",
      "4   120  192.168.202.172     49372  192.168.207.4         53   UDP    query   \n",
      "\n",
      "   dns_id          dns_rrname dns_rrtype  dns_tx_id dns_rcode  dns_ttl  \\\n",
      "0    2998     portswigger.net          A        0.0       NaN      NaN   \n",
      "1   10341  www.phpmyadmin.net          A        1.0       NaN      NaN   \n",
      "2   56106  www.postgresql.org          A        0.0       NaN      NaN   \n",
      "3   59952     sourceforge.net          A        0.0       NaN      NaN   \n",
      "4    3191     www.freepbx.org          A        0.0       NaN      NaN   \n",
      "\n",
      "  dns_rdata              tld  isDGA  \n",
      "0       NaN  portswigger.net      1  \n",
      "1       NaN   phpmyadmin.net      1  \n",
      "2       NaN   postgresql.org      1  \n",
      "3       NaN  sourceforge.net      1  \n",
      "4       NaN      freepbx.org      0  \n"
     ]
    },
    {
     "name": "stderr",
     "output_type": "stream",
     "text": [
      "/tmp/ipykernel_10621/3330053325.py:1: SettingWithCopyWarning: \n",
      "A value is trying to be set on a copy of a slice from a DataFrame.\n",
      "Try using .loc[row_indexer,col_indexer] = value instead\n",
      "\n",
      "See the caveats in the documentation: https://pandas.pydata.org/pandas-docs/stable/user_guide/indexing.html#returning-a-view-versus-a-copy\n",
      "  df2['isDGA'] = target_pred\n"
     ]
    }
   ],
   "source": [
    "df2['isDGA'] = target_pred\n",
    "print(df2.head())"
   ]
  },
  {
   "cell_type": "code",
   "execution_count": null,
   "metadata": {},
   "outputs": [],
   "source": [
    "Registros que predijo son DGA"
   ]
  },
  {
   "cell_type": "code",
   "execution_count": 38,
   "metadata": {},
   "outputs": [],
   "source": [
    "df_dga = df2[df2['isDGA']==1]"
   ]
  },
  {
   "cell_type": "code",
   "execution_count": 39,
   "metadata": {},
   "outputs": [
    {
     "name": "stdout",
     "output_type": "stream",
     "text": [
      "                          timestamp           flow_id  pcap_cnt event_type  \\\n",
      "0   2017-07-22T17:40:48.114275-0500  1014350855847523     96677        dns   \n",
      "1   2017-07-22T17:46:04.610289-0500   429530932048697    151992        dns   \n",
      "2   2017-07-22T17:48:23.254250-0500  1671304788304170    203830        dns   \n",
      "3   2017-07-22T17:48:23.255644-0500  1964865802987164    203832        dns   \n",
      "7   2017-07-22T17:48:23.252747-0500  1425258996816715    203828        dns   \n",
      "23  2017-07-22T18:38:08.315492-0500  1181225593131108    595058        dns   \n",
      "32  2017-07-22T18:51:27.204097-0500  1763090634841409   2163709        dns   \n",
      "39  2017-07-22T19:08:35.866745-0500   455668379133712   3352456        dns   \n",
      "42  2017-07-22T19:22:18.552958-0500  1206308375785470   2942239        dns   \n",
      "44  2017-07-22T19:22:18.553308-0500   836902533624156   2942241        dns   \n",
      "45  2017-07-22T19:27:13.025729-0500   777786623091841   3238835        dns   \n",
      "46  2017-07-22T19:29:18.937879-0500   455668379133752   3352456        dns   \n",
      "47  2017-07-22T19:27:13.026377-0500   919600000755465   3238844        dns   \n",
      "48  2017-07-22T19:39:02.425944-0500   487638006398936   4319590        dns   \n",
      "54  2017-07-22T19:39:02.426497-0500   572502265201153   4319593        dns   \n",
      "\n",
      "    vlan           src_ip  src_port        dest_ip  dest_port proto dns_type  \\\n",
      "0    140   192.168.204.63     52070  192.168.207.4         53   UDP    query   \n",
      "1    110   192.168.201.65      1034  192.168.207.4         53   UDP    query   \n",
      "2    120  192.168.202.172     55069  192.168.207.4         53   UDP    query   \n",
      "3    120  192.168.202.172     54399  192.168.207.4         53   UDP    query   \n",
      "7    120  192.168.202.172     56917  192.168.207.4         53   UDP    query   \n",
      "23   180   192.168.198.57     45926  192.168.207.4         53   UDP    query   \n",
      "32   110   192.168.201.57     53876  192.168.207.4         53   UDP    query   \n",
      "39   150  192.168.205.191     41174  192.168.207.4         53   UDP    query   \n",
      "42   180   192.168.198.60     49151  192.168.207.4         53   UDP    query   \n",
      "44   180   192.168.198.60     33725  192.168.207.4         53   UDP    query   \n",
      "45   180   192.168.198.62     56212  192.168.207.4         53   UDP    query   \n",
      "46   150  192.168.205.190     41174  192.168.207.4         53   UDP    query   \n",
      "47   180   192.168.198.62     49001  192.168.207.4         53   UDP    query   \n",
      "48   180   192.168.198.58     53630  192.168.207.4         53   UDP    query   \n",
      "54   180   192.168.198.58     42157  192.168.207.4         53   UDP    query   \n",
      "\n",
      "    dns_id                      dns_rrname dns_rrtype  dns_tx_id dns_rcode  \\\n",
      "0     2998                 portswigger.net          A        0.0       NaN   \n",
      "1    10341              www.phpmyadmin.net          A        1.0       NaN   \n",
      "2    56106              www.postgresql.org          A        0.0       NaN   \n",
      "3    59952                 sourceforge.net          A        0.0       NaN   \n",
      "7    63469      phppgadmin.sourceforge.net          A        0.0       NaN   \n",
      "23   42768                 192.168.21.1201          A        0.0       NaN   \n",
      "32   10754                ul.backblaze.com          A        0.0       NaN   \n",
      "39    1337            vtlfccmfxlkgifuf.com          A        0.0       NaN   \n",
      "42   33294                 1922.168.22.254          A        0.0       NaN   \n",
      "44   40284            1922.168.22.254.home          A        0.0       NaN   \n",
      "45   35952                 192.168.21-28.0          A        0.0       NaN   \n",
      "46   31337            ejfodfmfxlkgifuf.xyz          A        0.0       NaN   \n",
      "47    8420            192.168.21-28.0.home          A        0.0       NaN   \n",
      "48    8127                 192.168.22.201:          A        0.0       NaN   \n",
      "54   33079  192.168.22.201:.stayonline.net          A        0.0       NaN   \n",
      "\n",
      "    dns_ttl dns_rdata                             tld  isDGA  \n",
      "0       NaN       NaN                 portswigger.net      1  \n",
      "1       NaN       NaN                  phpmyadmin.net      1  \n",
      "2       NaN       NaN                  postgresql.org      1  \n",
      "3       NaN       NaN                 sourceforge.net      1  \n",
      "7       NaN       NaN                 sourceforge.net      1  \n",
      "23      NaN       NaN                 192.168.21.1201      1  \n",
      "32      NaN       NaN                   backblaze.com      1  \n",
      "39      NaN       NaN            vtlfccmfxlkgifuf.com      1  \n",
      "42      NaN       NaN                 1922.168.22.254      1  \n",
      "44      NaN       NaN            1922.168.22.254.home      1  \n",
      "45      NaN       NaN                 192.168.21-28.0      1  \n",
      "46      NaN       NaN            ejfodfmfxlkgifuf.xyz      1  \n",
      "47      NaN       NaN            192.168.21-28.0.home      1  \n",
      "48      NaN       NaN                 192.168.22.201:      1  \n",
      "54      NaN       NaN  192.168.22.201:.stayonline.net      1  \n"
     ]
    }
   ],
   "source": [
    "print(df_dga)"
   ]
  },
  {
   "cell_type": "code",
   "execution_count": null,
   "metadata": {},
   "outputs": [],
   "source": []
  }
 ],
 "metadata": {
  "interpreter": {
   "hash": "932a07b3a36724f0aad8ae0673ab0ff3eb997f9603e7d0ac9c3c7b8dd6cf5afb"
  },
  "kernelspec": {
   "display_name": "Python 3 (ipykernel)",
   "language": "python",
   "name": "python3"
  },
  "language_info": {
   "codemirror_mode": {
    "name": "ipython",
    "version": 3
   },
   "file_extension": ".py",
   "mimetype": "text/x-python",
   "name": "python",
   "nbconvert_exporter": "python",
   "pygments_lexer": "ipython3",
   "version": "3.9.10"
  }
 },
 "nbformat": 4,
 "nbformat_minor": 2
}
